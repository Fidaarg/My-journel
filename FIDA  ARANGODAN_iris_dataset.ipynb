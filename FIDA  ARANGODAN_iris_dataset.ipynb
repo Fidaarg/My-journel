{
 "cells": [
  {
   "cell_type": "code",
   "execution_count": 1,
   "id": "595018b5",
   "metadata": {},
   "outputs": [],
   "source": [
    "import numpy as np\n",
    "import pandas as pd\n",
    "import matplotlib.pyplot as plt\n",
    "import seaborn as sns"
   ]
  },
  {
   "cell_type": "code",
   "execution_count": 2,
   "id": "3343f060",
   "metadata": {},
   "outputs": [],
   "source": [
    "df=pd.read_excel('iris.xls')"
   ]
  },
  {
   "cell_type": "code",
   "execution_count": 3,
   "id": "a7fedd09",
   "metadata": {},
   "outputs": [
    {
     "data": {
      "text/html": [
       "<div>\n",
       "<style scoped>\n",
       "    .dataframe tbody tr th:only-of-type {\n",
       "        vertical-align: middle;\n",
       "    }\n",
       "\n",
       "    .dataframe tbody tr th {\n",
       "        vertical-align: top;\n",
       "    }\n",
       "\n",
       "    .dataframe thead th {\n",
       "        text-align: right;\n",
       "    }\n",
       "</style>\n",
       "<table border=\"1\" class=\"dataframe\">\n",
       "  <thead>\n",
       "    <tr style=\"text-align: right;\">\n",
       "      <th></th>\n",
       "      <th>SL</th>\n",
       "      <th>SW</th>\n",
       "      <th>PL</th>\n",
       "      <th>PW</th>\n",
       "      <th>Classification</th>\n",
       "    </tr>\n",
       "  </thead>\n",
       "  <tbody>\n",
       "    <tr>\n",
       "      <th>0</th>\n",
       "      <td>5.1</td>\n",
       "      <td>3.5</td>\n",
       "      <td>1.4</td>\n",
       "      <td>0.2</td>\n",
       "      <td>Iris-setosa</td>\n",
       "    </tr>\n",
       "    <tr>\n",
       "      <th>1</th>\n",
       "      <td>4.9</td>\n",
       "      <td>3.0</td>\n",
       "      <td>1.4</td>\n",
       "      <td>0.2</td>\n",
       "      <td>Iris-setosa</td>\n",
       "    </tr>\n",
       "    <tr>\n",
       "      <th>2</th>\n",
       "      <td>NaN</td>\n",
       "      <td>3.2</td>\n",
       "      <td>1.3</td>\n",
       "      <td>0.2</td>\n",
       "      <td>Iris-setosa</td>\n",
       "    </tr>\n",
       "    <tr>\n",
       "      <th>3</th>\n",
       "      <td>4.6</td>\n",
       "      <td>3.1</td>\n",
       "      <td>1.5</td>\n",
       "      <td>0.2</td>\n",
       "      <td>Iris-setosa</td>\n",
       "    </tr>\n",
       "    <tr>\n",
       "      <th>4</th>\n",
       "      <td>5.0</td>\n",
       "      <td>3.6</td>\n",
       "      <td>1.4</td>\n",
       "      <td>0.2</td>\n",
       "      <td>Iris-setosa</td>\n",
       "    </tr>\n",
       "  </tbody>\n",
       "</table>\n",
       "</div>"
      ],
      "text/plain": [
       "    SL   SW   PL   PW Classification\n",
       "0  5.1  3.5  1.4  0.2    Iris-setosa\n",
       "1  4.9  3.0  1.4  0.2    Iris-setosa\n",
       "2  NaN  3.2  1.3  0.2    Iris-setosa\n",
       "3  4.6  3.1  1.5  0.2    Iris-setosa\n",
       "4  5.0  3.6  1.4  0.2    Iris-setosa"
      ]
     },
     "execution_count": 3,
     "metadata": {},
     "output_type": "execute_result"
    }
   ],
   "source": [
    "df.head()"
   ]
  },
  {
   "cell_type": "code",
   "execution_count": 4,
   "id": "2829802e",
   "metadata": {},
   "outputs": [
    {
     "data": {
      "text/plain": [
       "(150, 5)"
      ]
     },
     "execution_count": 4,
     "metadata": {},
     "output_type": "execute_result"
    }
   ],
   "source": [
    "df.shape"
   ]
  },
  {
   "cell_type": "code",
   "execution_count": 5,
   "id": "ef7feddb",
   "metadata": {},
   "outputs": [
    {
     "name": "stdout",
     "output_type": "stream",
     "text": [
      "<class 'pandas.core.frame.DataFrame'>\n",
      "RangeIndex: 150 entries, 0 to 149\n",
      "Data columns (total 5 columns):\n",
      " #   Column          Non-Null Count  Dtype  \n",
      "---  ------          --------------  -----  \n",
      " 0   SL              143 non-null    float64\n",
      " 1   SW              144 non-null    float64\n",
      " 2   PL              144 non-null    float64\n",
      " 3   PW              150 non-null    float64\n",
      " 4   Classification  150 non-null    object \n",
      "dtypes: float64(4), object(1)\n",
      "memory usage: 6.0+ KB\n"
     ]
    }
   ],
   "source": [
    "df.info()"
   ]
  },
  {
   "cell_type": "code",
   "execution_count": 6,
   "id": "39dfdf59",
   "metadata": {},
   "outputs": [
    {
     "data": {
      "text/html": [
       "<div>\n",
       "<style scoped>\n",
       "    .dataframe tbody tr th:only-of-type {\n",
       "        vertical-align: middle;\n",
       "    }\n",
       "\n",
       "    .dataframe tbody tr th {\n",
       "        vertical-align: top;\n",
       "    }\n",
       "\n",
       "    .dataframe thead th {\n",
       "        text-align: right;\n",
       "    }\n",
       "</style>\n",
       "<table border=\"1\" class=\"dataframe\">\n",
       "  <thead>\n",
       "    <tr style=\"text-align: right;\">\n",
       "      <th></th>\n",
       "      <th>SL</th>\n",
       "      <th>SW</th>\n",
       "      <th>PL</th>\n",
       "      <th>PW</th>\n",
       "    </tr>\n",
       "  </thead>\n",
       "  <tbody>\n",
       "    <tr>\n",
       "      <th>count</th>\n",
       "      <td>143.000000</td>\n",
       "      <td>144.000000</td>\n",
       "      <td>144.000000</td>\n",
       "      <td>150.000000</td>\n",
       "    </tr>\n",
       "    <tr>\n",
       "      <th>mean</th>\n",
       "      <td>5.855944</td>\n",
       "      <td>3.049306</td>\n",
       "      <td>3.756250</td>\n",
       "      <td>1.198667</td>\n",
       "    </tr>\n",
       "    <tr>\n",
       "      <th>std</th>\n",
       "      <td>0.828168</td>\n",
       "      <td>0.430644</td>\n",
       "      <td>1.761306</td>\n",
       "      <td>0.763161</td>\n",
       "    </tr>\n",
       "    <tr>\n",
       "      <th>min</th>\n",
       "      <td>4.300000</td>\n",
       "      <td>2.000000</td>\n",
       "      <td>1.000000</td>\n",
       "      <td>0.100000</td>\n",
       "    </tr>\n",
       "    <tr>\n",
       "      <th>25%</th>\n",
       "      <td>5.100000</td>\n",
       "      <td>2.800000</td>\n",
       "      <td>1.600000</td>\n",
       "      <td>0.300000</td>\n",
       "    </tr>\n",
       "    <tr>\n",
       "      <th>50%</th>\n",
       "      <td>5.800000</td>\n",
       "      <td>3.000000</td>\n",
       "      <td>4.350000</td>\n",
       "      <td>1.300000</td>\n",
       "    </tr>\n",
       "    <tr>\n",
       "      <th>75%</th>\n",
       "      <td>6.400000</td>\n",
       "      <td>3.300000</td>\n",
       "      <td>5.100000</td>\n",
       "      <td>1.800000</td>\n",
       "    </tr>\n",
       "    <tr>\n",
       "      <th>max</th>\n",
       "      <td>7.900000</td>\n",
       "      <td>4.400000</td>\n",
       "      <td>6.900000</td>\n",
       "      <td>2.500000</td>\n",
       "    </tr>\n",
       "  </tbody>\n",
       "</table>\n",
       "</div>"
      ],
      "text/plain": [
       "               SL          SW          PL          PW\n",
       "count  143.000000  144.000000  144.000000  150.000000\n",
       "mean     5.855944    3.049306    3.756250    1.198667\n",
       "std      0.828168    0.430644    1.761306    0.763161\n",
       "min      4.300000    2.000000    1.000000    0.100000\n",
       "25%      5.100000    2.800000    1.600000    0.300000\n",
       "50%      5.800000    3.000000    4.350000    1.300000\n",
       "75%      6.400000    3.300000    5.100000    1.800000\n",
       "max      7.900000    4.400000    6.900000    2.500000"
      ]
     },
     "execution_count": 6,
     "metadata": {},
     "output_type": "execute_result"
    }
   ],
   "source": [
    "df.describe()"
   ]
  },
  {
   "cell_type": "code",
   "execution_count": 7,
   "id": "45624cee",
   "metadata": {},
   "outputs": [
    {
     "data": {
      "text/plain": [
       "Iris-setosa        50\n",
       "Iris-versicolor    50\n",
       "Iris-virginica     50\n",
       "Name: Classification, dtype: int64"
      ]
     },
     "execution_count": 7,
     "metadata": {},
     "output_type": "execute_result"
    }
   ],
   "source": [
    "df['Classification'].value_counts()"
   ]
  },
  {
   "cell_type": "code",
   "execution_count": 8,
   "id": "5ccdbf3c",
   "metadata": {},
   "outputs": [
    {
     "data": {
      "text/plain": [
       "SL                7\n",
       "SW                6\n",
       "PL                6\n",
       "PW                0\n",
       "Classification    0\n",
       "dtype: int64"
      ]
     },
     "execution_count": 8,
     "metadata": {},
     "output_type": "execute_result"
    }
   ],
   "source": [
    "#Handling missing values\n",
    "df.isnull().sum()"
   ]
  },
  {
   "cell_type": "code",
   "execution_count": 9,
   "id": "b328eb49",
   "metadata": {},
   "outputs": [
    {
     "data": {
      "text/html": [
       "<div>\n",
       "<style scoped>\n",
       "    .dataframe tbody tr th:only-of-type {\n",
       "        vertical-align: middle;\n",
       "    }\n",
       "\n",
       "    .dataframe tbody tr th {\n",
       "        vertical-align: top;\n",
       "    }\n",
       "\n",
       "    .dataframe thead th {\n",
       "        text-align: right;\n",
       "    }\n",
       "</style>\n",
       "<table border=\"1\" class=\"dataframe\">\n",
       "  <thead>\n",
       "    <tr style=\"text-align: right;\">\n",
       "      <th></th>\n",
       "      <th>SL</th>\n",
       "      <th>SW</th>\n",
       "      <th>PL</th>\n",
       "      <th>PW</th>\n",
       "      <th>Classification</th>\n",
       "    </tr>\n",
       "  </thead>\n",
       "  <tbody>\n",
       "    <tr>\n",
       "      <th>2</th>\n",
       "      <td>NaN</td>\n",
       "      <td>3.2</td>\n",
       "      <td>1.3</td>\n",
       "      <td>0.2</td>\n",
       "      <td>Iris-setosa</td>\n",
       "    </tr>\n",
       "    <tr>\n",
       "      <th>10</th>\n",
       "      <td>5.4</td>\n",
       "      <td>NaN</td>\n",
       "      <td>1.5</td>\n",
       "      <td>0.2</td>\n",
       "      <td>Iris-setosa</td>\n",
       "    </tr>\n",
       "    <tr>\n",
       "      <th>21</th>\n",
       "      <td>NaN</td>\n",
       "      <td>3.7</td>\n",
       "      <td>1.5</td>\n",
       "      <td>0.4</td>\n",
       "      <td>Iris-setosa</td>\n",
       "    </tr>\n",
       "    <tr>\n",
       "      <th>27</th>\n",
       "      <td>5.2</td>\n",
       "      <td>NaN</td>\n",
       "      <td>1.5</td>\n",
       "      <td>0.2</td>\n",
       "      <td>Iris-setosa</td>\n",
       "    </tr>\n",
       "    <tr>\n",
       "      <th>28</th>\n",
       "      <td>5.2</td>\n",
       "      <td>3.4</td>\n",
       "      <td>NaN</td>\n",
       "      <td>0.2</td>\n",
       "      <td>Iris-setosa</td>\n",
       "    </tr>\n",
       "    <tr>\n",
       "      <th>39</th>\n",
       "      <td>NaN</td>\n",
       "      <td>3.4</td>\n",
       "      <td>1.5</td>\n",
       "      <td>0.2</td>\n",
       "      <td>Iris-setosa</td>\n",
       "    </tr>\n",
       "    <tr>\n",
       "      <th>42</th>\n",
       "      <td>4.4</td>\n",
       "      <td>3.2</td>\n",
       "      <td>NaN</td>\n",
       "      <td>0.2</td>\n",
       "      <td>Iris-setosa</td>\n",
       "    </tr>\n",
       "    <tr>\n",
       "      <th>43</th>\n",
       "      <td>5.0</td>\n",
       "      <td>NaN</td>\n",
       "      <td>1.6</td>\n",
       "      <td>0.6</td>\n",
       "      <td>Iris-setosa</td>\n",
       "    </tr>\n",
       "    <tr>\n",
       "      <th>51</th>\n",
       "      <td>NaN</td>\n",
       "      <td>3.2</td>\n",
       "      <td>4.5</td>\n",
       "      <td>1.5</td>\n",
       "      <td>Iris-versicolor</td>\n",
       "    </tr>\n",
       "    <tr>\n",
       "      <th>56</th>\n",
       "      <td>6.3</td>\n",
       "      <td>3.3</td>\n",
       "      <td>NaN</td>\n",
       "      <td>1.6</td>\n",
       "      <td>Iris-versicolor</td>\n",
       "    </tr>\n",
       "    <tr>\n",
       "      <th>72</th>\n",
       "      <td>6.3</td>\n",
       "      <td>NaN</td>\n",
       "      <td>4.9</td>\n",
       "      <td>1.5</td>\n",
       "      <td>Iris-versicolor</td>\n",
       "    </tr>\n",
       "    <tr>\n",
       "      <th>85</th>\n",
       "      <td>NaN</td>\n",
       "      <td>3.4</td>\n",
       "      <td>4.5</td>\n",
       "      <td>1.6</td>\n",
       "      <td>Iris-versicolor</td>\n",
       "    </tr>\n",
       "    <tr>\n",
       "      <th>94</th>\n",
       "      <td>5.6</td>\n",
       "      <td>2.7</td>\n",
       "      <td>NaN</td>\n",
       "      <td>1.3</td>\n",
       "      <td>Iris-versicolor</td>\n",
       "    </tr>\n",
       "    <tr>\n",
       "      <th>98</th>\n",
       "      <td>5.1</td>\n",
       "      <td>NaN</td>\n",
       "      <td>3.0</td>\n",
       "      <td>1.1</td>\n",
       "      <td>Iris-versicolor</td>\n",
       "    </tr>\n",
       "    <tr>\n",
       "      <th>106</th>\n",
       "      <td>NaN</td>\n",
       "      <td>2.5</td>\n",
       "      <td>4.5</td>\n",
       "      <td>1.7</td>\n",
       "      <td>Iris-virginica</td>\n",
       "    </tr>\n",
       "    <tr>\n",
       "      <th>109</th>\n",
       "      <td>7.2</td>\n",
       "      <td>3.6</td>\n",
       "      <td>NaN</td>\n",
       "      <td>2.5</td>\n",
       "      <td>Iris-virginica</td>\n",
       "    </tr>\n",
       "    <tr>\n",
       "      <th>124</th>\n",
       "      <td>6.7</td>\n",
       "      <td>NaN</td>\n",
       "      <td>5.7</td>\n",
       "      <td>2.1</td>\n",
       "      <td>Iris-virginica</td>\n",
       "    </tr>\n",
       "    <tr>\n",
       "      <th>141</th>\n",
       "      <td>NaN</td>\n",
       "      <td>3.1</td>\n",
       "      <td>5.1</td>\n",
       "      <td>2.3</td>\n",
       "      <td>Iris-virginica</td>\n",
       "    </tr>\n",
       "    <tr>\n",
       "      <th>147</th>\n",
       "      <td>6.5</td>\n",
       "      <td>3.0</td>\n",
       "      <td>NaN</td>\n",
       "      <td>2.0</td>\n",
       "      <td>Iris-virginica</td>\n",
       "    </tr>\n",
       "  </tbody>\n",
       "</table>\n",
       "</div>"
      ],
      "text/plain": [
       "      SL   SW   PL   PW   Classification\n",
       "2    NaN  3.2  1.3  0.2      Iris-setosa\n",
       "10   5.4  NaN  1.5  0.2      Iris-setosa\n",
       "21   NaN  3.7  1.5  0.4      Iris-setosa\n",
       "27   5.2  NaN  1.5  0.2      Iris-setosa\n",
       "28   5.2  3.4  NaN  0.2      Iris-setosa\n",
       "39   NaN  3.4  1.5  0.2      Iris-setosa\n",
       "42   4.4  3.2  NaN  0.2      Iris-setosa\n",
       "43   5.0  NaN  1.6  0.6      Iris-setosa\n",
       "51   NaN  3.2  4.5  1.5  Iris-versicolor\n",
       "56   6.3  3.3  NaN  1.6  Iris-versicolor\n",
       "72   6.3  NaN  4.9  1.5  Iris-versicolor\n",
       "85   NaN  3.4  4.5  1.6  Iris-versicolor\n",
       "94   5.6  2.7  NaN  1.3  Iris-versicolor\n",
       "98   5.1  NaN  3.0  1.1  Iris-versicolor\n",
       "106  NaN  2.5  4.5  1.7   Iris-virginica\n",
       "109  7.2  3.6  NaN  2.5   Iris-virginica\n",
       "124  6.7  NaN  5.7  2.1   Iris-virginica\n",
       "141  NaN  3.1  5.1  2.3   Iris-virginica\n",
       "147  6.5  3.0  NaN  2.0   Iris-virginica"
      ]
     },
     "execution_count": 9,
     "metadata": {},
     "output_type": "execute_result"
    }
   ],
   "source": [
    "df[df.isnull().any(axis=1)]"
   ]
  },
  {
   "cell_type": "code",
   "execution_count": 10,
   "id": "d46e73cf",
   "metadata": {},
   "outputs": [
    {
     "data": {
      "image/png": "[encoded data removed]",
      "text/plain": [
       "<Figure size 640x480 with 4 Axes>"
      ]
     },
     "metadata": {},
     "output_type": "display_data"
    }
   ],
   "source": [
    "plt.subplot(2,2,1)\n",
    "df['SL'].hist()\n",
    "plt.xlabel('Sepal Length')\n",
    "plt.subplot(2,2,2)\n",
    "df['SW'].hist()\n",
    "plt.xlabel('Sepal Width')\n",
    "plt.subplot(2,2,3)\n",
    "df['PL'].hist()\n",
    "plt.xlabel('Petal Length')\n",
    "plt.subplot(2,2,4)\n",
    "df['PW'].hist()\n",
    "plt.xlabel('Petal Width')\n",
    "plt.tight_layout()"
   ]
  },
  {
   "cell_type": "code",
   "execution_count": 11,
   "id": "3d86a1b2",
   "metadata": {},
   "outputs": [
    {
     "name": "stdout",
     "output_type": "stream",
     "text": [
      "Classification\n",
      "Iris-setosa        5.00\n",
      "Iris-versicolor    5.85\n",
      "Iris-virginica     6.50\n",
      "Name: SL, dtype: float64\n"
     ]
    }
   ],
   "source": [
    "print(df.groupby('Classification')['SL'].median())"
   ]
  },
  {
   "cell_type": "code",
   "execution_count": 12,
   "id": "33b2cff1",
   "metadata": {},
   "outputs": [],
   "source": [
    "df['SL'].fillna(5,inplace=True,limit=3)\n",
    "df['SL'].fillna(5.85,inplace=True,limit=2)\n",
    "df['SL'].fillna(6.5,inplace=True)"
   ]
  },
  {
   "cell_type": "code",
   "execution_count": 13,
   "id": "39c260ff",
   "metadata": {},
   "outputs": [
    {
     "data": {
      "text/html": [
       "<div>\n",
       "<style scoped>\n",
       "    .dataframe tbody tr th:only-of-type {\n",
       "        vertical-align: middle;\n",
       "    }\n",
       "\n",
       "    .dataframe tbody tr th {\n",
       "        vertical-align: top;\n",
       "    }\n",
       "\n",
       "    .dataframe thead th {\n",
       "        text-align: right;\n",
       "    }\n",
       "</style>\n",
       "<table border=\"1\" class=\"dataframe\">\n",
       "  <thead>\n",
       "    <tr style=\"text-align: right;\">\n",
       "      <th></th>\n",
       "      <th>SL</th>\n",
       "      <th>SW</th>\n",
       "      <th>PL</th>\n",
       "      <th>PW</th>\n",
       "      <th>Classification</th>\n",
       "    </tr>\n",
       "  </thead>\n",
       "  <tbody>\n",
       "    <tr>\n",
       "      <th>2</th>\n",
       "      <td>5.00</td>\n",
       "      <td>3.2</td>\n",
       "      <td>1.3</td>\n",
       "      <td>0.2</td>\n",
       "      <td>Iris-setosa</td>\n",
       "    </tr>\n",
       "    <tr>\n",
       "      <th>21</th>\n",
       "      <td>5.00</td>\n",
       "      <td>3.7</td>\n",
       "      <td>1.5</td>\n",
       "      <td>0.4</td>\n",
       "      <td>Iris-setosa</td>\n",
       "    </tr>\n",
       "    <tr>\n",
       "      <th>39</th>\n",
       "      <td>5.00</td>\n",
       "      <td>3.4</td>\n",
       "      <td>1.5</td>\n",
       "      <td>0.2</td>\n",
       "      <td>Iris-setosa</td>\n",
       "    </tr>\n",
       "    <tr>\n",
       "      <th>51</th>\n",
       "      <td>5.85</td>\n",
       "      <td>3.2</td>\n",
       "      <td>4.5</td>\n",
       "      <td>1.5</td>\n",
       "      <td>Iris-versicolor</td>\n",
       "    </tr>\n",
       "    <tr>\n",
       "      <th>85</th>\n",
       "      <td>5.85</td>\n",
       "      <td>3.4</td>\n",
       "      <td>4.5</td>\n",
       "      <td>1.6</td>\n",
       "      <td>Iris-versicolor</td>\n",
       "    </tr>\n",
       "    <tr>\n",
       "      <th>106</th>\n",
       "      <td>6.50</td>\n",
       "      <td>2.5</td>\n",
       "      <td>4.5</td>\n",
       "      <td>1.7</td>\n",
       "      <td>Iris-virginica</td>\n",
       "    </tr>\n",
       "    <tr>\n",
       "      <th>141</th>\n",
       "      <td>6.50</td>\n",
       "      <td>3.1</td>\n",
       "      <td>5.1</td>\n",
       "      <td>2.3</td>\n",
       "      <td>Iris-virginica</td>\n",
       "    </tr>\n",
       "  </tbody>\n",
       "</table>\n",
       "</div>"
      ],
      "text/plain": [
       "       SL   SW   PL   PW   Classification\n",
       "2    5.00  3.2  1.3  0.2      Iris-setosa\n",
       "21   5.00  3.7  1.5  0.4      Iris-setosa\n",
       "39   5.00  3.4  1.5  0.2      Iris-setosa\n",
       "51   5.85  3.2  4.5  1.5  Iris-versicolor\n",
       "85   5.85  3.4  4.5  1.6  Iris-versicolor\n",
       "106  6.50  2.5  4.5  1.7   Iris-virginica\n",
       "141  6.50  3.1  5.1  2.3   Iris-virginica"
      ]
     },
     "execution_count": 13,
     "metadata": {},
     "output_type": "execute_result"
    }
   ],
   "source": [
    "df.loc[[2,21,39,51,85,106,141]]"
   ]
  },
  {
   "cell_type": "code",
   "execution_count": 14,
   "id": "e8078938",
   "metadata": {},
   "outputs": [
    {
     "name": "stdout",
     "output_type": "stream",
     "text": [
      "Classification\n",
      "Iris-setosa        3.4\n",
      "Iris-versicolor    2.8\n",
      "Iris-virginica     3.0\n",
      "Name: SW, dtype: float64\n"
     ]
    }
   ],
   "source": [
    "print(df.groupby('Classification')['SW'].median())"
   ]
  },
  {
   "cell_type": "code",
   "execution_count": 15,
   "id": "3bc820fe",
   "metadata": {},
   "outputs": [],
   "source": [
    "df['SW'].fillna(3.4,inplace=True,limit=3)\n",
    "df['SW'].fillna(2.8,inplace=True,limit=2)\n",
    "df['SW'].fillna(3.0,inplace=True)"
   ]
  },
  {
   "cell_type": "code",
   "execution_count": 16,
   "id": "da1855a3",
   "metadata": {},
   "outputs": [
    {
     "data": {
      "text/html": [
       "<div>\n",
       "<style scoped>\n",
       "    .dataframe tbody tr th:only-of-type {\n",
       "        vertical-align: middle;\n",
       "    }\n",
       "\n",
       "    .dataframe tbody tr th {\n",
       "        vertical-align: top;\n",
       "    }\n",
       "\n",
       "    .dataframe thead th {\n",
       "        text-align: right;\n",
       "    }\n",
       "</style>\n",
       "<table border=\"1\" class=\"dataframe\">\n",
       "  <thead>\n",
       "    <tr style=\"text-align: right;\">\n",
       "      <th></th>\n",
       "      <th>SL</th>\n",
       "      <th>SW</th>\n",
       "      <th>PL</th>\n",
       "      <th>PW</th>\n",
       "      <th>Classification</th>\n",
       "    </tr>\n",
       "  </thead>\n",
       "  <tbody>\n",
       "    <tr>\n",
       "      <th>10</th>\n",
       "      <td>5.4</td>\n",
       "      <td>3.4</td>\n",
       "      <td>1.5</td>\n",
       "      <td>0.2</td>\n",
       "      <td>Iris-setosa</td>\n",
       "    </tr>\n",
       "    <tr>\n",
       "      <th>27</th>\n",
       "      <td>5.2</td>\n",
       "      <td>3.4</td>\n",
       "      <td>1.5</td>\n",
       "      <td>0.2</td>\n",
       "      <td>Iris-setosa</td>\n",
       "    </tr>\n",
       "    <tr>\n",
       "      <th>43</th>\n",
       "      <td>5.0</td>\n",
       "      <td>3.4</td>\n",
       "      <td>1.6</td>\n",
       "      <td>0.6</td>\n",
       "      <td>Iris-setosa</td>\n",
       "    </tr>\n",
       "    <tr>\n",
       "      <th>72</th>\n",
       "      <td>6.3</td>\n",
       "      <td>2.8</td>\n",
       "      <td>4.9</td>\n",
       "      <td>1.5</td>\n",
       "      <td>Iris-versicolor</td>\n",
       "    </tr>\n",
       "    <tr>\n",
       "      <th>98</th>\n",
       "      <td>5.1</td>\n",
       "      <td>2.8</td>\n",
       "      <td>3.0</td>\n",
       "      <td>1.1</td>\n",
       "      <td>Iris-versicolor</td>\n",
       "    </tr>\n",
       "    <tr>\n",
       "      <th>124</th>\n",
       "      <td>6.7</td>\n",
       "      <td>3.0</td>\n",
       "      <td>5.7</td>\n",
       "      <td>2.1</td>\n",
       "      <td>Iris-virginica</td>\n",
       "    </tr>\n",
       "  </tbody>\n",
       "</table>\n",
       "</div>"
      ],
      "text/plain": [
       "      SL   SW   PL   PW   Classification\n",
       "10   5.4  3.4  1.5  0.2      Iris-setosa\n",
       "27   5.2  3.4  1.5  0.2      Iris-setosa\n",
       "43   5.0  3.4  1.6  0.6      Iris-setosa\n",
       "72   6.3  2.8  4.9  1.5  Iris-versicolor\n",
       "98   5.1  2.8  3.0  1.1  Iris-versicolor\n",
       "124  6.7  3.0  5.7  2.1   Iris-virginica"
      ]
     },
     "execution_count": 16,
     "metadata": {},
     "output_type": "execute_result"
    }
   ],
   "source": [
    "df.loc[[10,27,43,72,98,124]]"
   ]
  },
  {
   "cell_type": "code",
   "execution_count": 17,
   "id": "7ec49d25",
   "metadata": {},
   "outputs": [
    {
     "name": "stdout",
     "output_type": "stream",
     "text": [
      "Classification\n",
      "Iris-setosa        1.50\n",
      "Iris-versicolor    4.35\n",
      "Iris-virginica     5.55\n",
      "Name: PL, dtype: float64\n"
     ]
    }
   ],
   "source": [
    "print(df.groupby('Classification')['PL'].median())"
   ]
  },
  {
   "cell_type": "code",
   "execution_count": 18,
   "id": "59d4df28",
   "metadata": {},
   "outputs": [],
   "source": [
    "df['PL'].fillna(1.5,inplace=True,limit=2)\n",
    "df['PL'].fillna(4.35,inplace=True,limit=2)\n",
    "df['PL'].fillna(5.55,inplace=True)"
   ]
  },
  {
   "cell_type": "code",
   "execution_count": 19,
   "id": "0e542d9c",
   "metadata": {},
   "outputs": [
    {
     "data": {
      "text/html": [
       "<div>\n",
       "<style scoped>\n",
       "    .dataframe tbody tr th:only-of-type {\n",
       "        vertical-align: middle;\n",
       "    }\n",
       "\n",
       "    .dataframe tbody tr th {\n",
       "        vertical-align: top;\n",
       "    }\n",
       "\n",
       "    .dataframe thead th {\n",
       "        text-align: right;\n",
       "    }\n",
       "</style>\n",
       "<table border=\"1\" class=\"dataframe\">\n",
       "  <thead>\n",
       "    <tr style=\"text-align: right;\">\n",
       "      <th></th>\n",
       "      <th>SL</th>\n",
       "      <th>SW</th>\n",
       "      <th>PL</th>\n",
       "      <th>PW</th>\n",
       "      <th>Classification</th>\n",
       "    </tr>\n",
       "  </thead>\n",
       "  <tbody>\n",
       "    <tr>\n",
       "      <th>28</th>\n",
       "      <td>5.2</td>\n",
       "      <td>3.4</td>\n",
       "      <td>1.50</td>\n",
       "      <td>0.2</td>\n",
       "      <td>Iris-setosa</td>\n",
       "    </tr>\n",
       "    <tr>\n",
       "      <th>42</th>\n",
       "      <td>4.4</td>\n",
       "      <td>3.2</td>\n",
       "      <td>1.50</td>\n",
       "      <td>0.2</td>\n",
       "      <td>Iris-setosa</td>\n",
       "    </tr>\n",
       "    <tr>\n",
       "      <th>56</th>\n",
       "      <td>6.3</td>\n",
       "      <td>3.3</td>\n",
       "      <td>4.35</td>\n",
       "      <td>1.6</td>\n",
       "      <td>Iris-versicolor</td>\n",
       "    </tr>\n",
       "    <tr>\n",
       "      <th>94</th>\n",
       "      <td>5.6</td>\n",
       "      <td>2.7</td>\n",
       "      <td>4.35</td>\n",
       "      <td>1.3</td>\n",
       "      <td>Iris-versicolor</td>\n",
       "    </tr>\n",
       "    <tr>\n",
       "      <th>109</th>\n",
       "      <td>7.2</td>\n",
       "      <td>3.6</td>\n",
       "      <td>5.55</td>\n",
       "      <td>2.5</td>\n",
       "      <td>Iris-virginica</td>\n",
       "    </tr>\n",
       "    <tr>\n",
       "      <th>147</th>\n",
       "      <td>6.5</td>\n",
       "      <td>3.0</td>\n",
       "      <td>5.55</td>\n",
       "      <td>2.0</td>\n",
       "      <td>Iris-virginica</td>\n",
       "    </tr>\n",
       "  </tbody>\n",
       "</table>\n",
       "</div>"
      ],
      "text/plain": [
       "      SL   SW    PL   PW   Classification\n",
       "28   5.2  3.4  1.50  0.2      Iris-setosa\n",
       "42   4.4  3.2  1.50  0.2      Iris-setosa\n",
       "56   6.3  3.3  4.35  1.6  Iris-versicolor\n",
       "94   5.6  2.7  4.35  1.3  Iris-versicolor\n",
       "109  7.2  3.6  5.55  2.5   Iris-virginica\n",
       "147  6.5  3.0  5.55  2.0   Iris-virginica"
      ]
     },
     "execution_count": 19,
     "metadata": {},
     "output_type": "execute_result"
    }
   ],
   "source": [
    "df.loc[[28,42,56,94,109,147]]"
   ]
  },
  {
   "cell_type": "code",
   "execution_count": 20,
   "id": "2e3024fd",
   "metadata": {},
   "outputs": [
    {
     "data": {
      "text/plain": [
       "SL                0\n",
       "SW                0\n",
       "PL                0\n",
       "PW                0\n",
       "Classification    0\n",
       "dtype: int64"
      ]
     },
     "execution_count": 20,
     "metadata": {},
     "output_type": "execute_result"
    }
   ],
   "source": [
    "df.isnull().sum()"
   ]
  },
  {
   "cell_type": "markdown",
   "id": "c3f8f687",
   "metadata": {},
   "source": [
    "# Boxplot"
   ]
  },
  {
   "cell_type": "code",
   "execution_count": 21,
   "id": "d7478dab",
   "metadata": {},
   "outputs": [
    {
     "data": {
      "image/png": "[encoded data removed]",
      "text/plain": [
       "<Figure size 600x600 with 4 Axes>"
      ]
     },
     "metadata": {},
     "output_type": "display_data"
    }
   ],
   "source": [
    "#treating outliers\n",
    "plt.figure(figsize=(6,6))\n",
    "plt.subplot(2,2,1)\n",
    "sns.boxplot(y=df['SL'])\n",
    "plt.subplot(2,2,2)\n",
    "sns.boxplot(y=df['SW'])\n",
    "plt.subplot(2,2,3)\n",
    "sns.boxplot(y=df['PL'])\n",
    "plt.subplot(2,2,4)\n",
    "sns.boxplot(y=df['PW']);\n",
    "plt.tight_layout()"
   ]
  },
  {
   "cell_type": "code",
   "execution_count": 22,
   "id": "f76e16ef",
   "metadata": {},
   "outputs": [],
   "source": [
    "Q1=np.percentile(df['SW'],25,interpolation='midpoint')\n",
    "Q2=np.percentile(df['SW'],50,interpolation='midpoint')\n",
    "Q3=np.percentile(df['SW'],75,interpolation='midpoint')"
   ]
  },
  {
   "cell_type": "code",
   "execution_count": 23,
   "id": "ba643857",
   "metadata": {},
   "outputs": [
    {
     "name": "stdout",
     "output_type": "stream",
     "text": [
      "2.8\n",
      "3.0\n",
      "3.3\n"
     ]
    }
   ],
   "source": [
    "print(Q1)\n",
    "print(Q2)\n",
    "print(Q3)"
   ]
  },
  {
   "cell_type": "code",
   "execution_count": 24,
   "id": "3681fb31",
   "metadata": {},
   "outputs": [
    {
     "name": "stdout",
     "output_type": "stream",
     "text": [
      "0.5\n"
     ]
    }
   ],
   "source": [
    "IQR=Q3-Q1\n",
    "print(IQR)"
   ]
  },
  {
   "cell_type": "code",
   "execution_count": 25,
   "id": "c4c10e52",
   "metadata": {},
   "outputs": [
    {
     "name": "stdout",
     "output_type": "stream",
     "text": [
      "2.05\n",
      "4.05\n"
     ]
    }
   ],
   "source": [
    "upper_limit=Q3+1.5*IQR\n",
    "lower_limit=Q1-1.5*IQR\n",
    "print(lower_limit)\n",
    "print(upper_limit)"
   ]
  },
  {
   "cell_type": "code",
   "execution_count": 26,
   "id": "87822a7b",
   "metadata": {},
   "outputs": [],
   "source": [
    "outlier=[]\n",
    "for x in df['SW']: \n",
    "    if((x>upper_limit) or (x<lower_limit)):\n",
    "        outlier.append(x)"
   ]
  },
  {
   "cell_type": "code",
   "execution_count": 27,
   "id": "daacd6be",
   "metadata": {},
   "outputs": [
    {
     "data": {
      "text/plain": [
       "[4.4, 4.1, 4.2, 2.0]"
      ]
     },
     "execution_count": 27,
     "metadata": {},
     "output_type": "execute_result"
    }
   ],
   "source": [
    "outlier"
   ]
  },
  {
   "cell_type": "code",
   "execution_count": 30,
   "id": "8a81685a",
   "metadata": {},
   "outputs": [
    {
     "data": {
      "text/html": [
       "<div>\n",
       "<style scoped>\n",
       "    .dataframe tbody tr th:only-of-type {\n",
       "        vertical-align: middle;\n",
       "    }\n",
       "\n",
       "    .dataframe tbody tr th {\n",
       "        vertical-align: top;\n",
       "    }\n",
       "\n",
       "    .dataframe thead th {\n",
       "        text-align: right;\n",
       "    }\n",
       "</style>\n",
       "<table border=\"1\" class=\"dataframe\">\n",
       "  <thead>\n",
       "    <tr style=\"text-align: right;\">\n",
       "      <th></th>\n",
       "      <th>SL</th>\n",
       "      <th>SW</th>\n",
       "      <th>PL</th>\n",
       "      <th>PW</th>\n",
       "      <th>Classification</th>\n",
       "    </tr>\n",
       "  </thead>\n",
       "  <tbody>\n",
       "    <tr>\n",
       "      <th>15</th>\n",
       "      <td>5.7</td>\n",
       "      <td>4.4</td>\n",
       "      <td>1.5</td>\n",
       "      <td>0.4</td>\n",
       "      <td>Iris-setosa</td>\n",
       "    </tr>\n",
       "    <tr>\n",
       "      <th>32</th>\n",
       "      <td>5.2</td>\n",
       "      <td>4.1</td>\n",
       "      <td>1.5</td>\n",
       "      <td>0.1</td>\n",
       "      <td>Iris-setosa</td>\n",
       "    </tr>\n",
       "    <tr>\n",
       "      <th>33</th>\n",
       "      <td>5.5</td>\n",
       "      <td>4.2</td>\n",
       "      <td>1.4</td>\n",
       "      <td>0.2</td>\n",
       "      <td>Iris-setosa</td>\n",
       "    </tr>\n",
       "  </tbody>\n",
       "</table>\n",
       "</div>"
      ],
      "text/plain": [
       "     SL   SW   PL   PW Classification\n",
       "15  5.7  4.4  1.5  0.4    Iris-setosa\n",
       "32  5.2  4.1  1.5  0.1    Iris-setosa\n",
       "33  5.5  4.2  1.4  0.2    Iris-setosa"
      ]
     },
     "execution_count": 30,
     "metadata": {},
     "output_type": "execute_result"
    }
   ],
   "source": [
    "ind1=df['SW']>upper_limit\n",
    "df.loc[ind1]"
   ]
  },
  {
   "cell_type": "code",
   "execution_count": 33,
   "id": "a0292557",
   "metadata": {},
   "outputs": [
    {
     "data": {
      "text/plain": [
       "Int64Index([15, 32, 33], dtype='int64')"
      ]
     },
     "execution_count": 33,
     "metadata": {},
     "output_type": "execute_result"
    }
   ],
   "source": [
    "\n",
    "df.loc[ind1].index"
   ]
  },
  {
   "cell_type": "code",
   "execution_count": 38,
   "id": "dd82965a",
   "metadata": {},
   "outputs": [
    {
     "data": {
      "text/plain": [
       "Int64Index([60], dtype='int64')"
      ]
     },
     "execution_count": 38,
     "metadata": {},
     "output_type": "execute_result"
    }
   ],
   "source": [
    "ind1=df['SW']<lower_limit\n",
    "df.loc[ind1].index"
   ]
  },
  {
   "cell_type": "code",
   "execution_count": 39,
   "id": "83fad2f7",
   "metadata": {},
   "outputs": [
    {
     "data": {
      "text/html": [
       "<div>\n",
       "<style scoped>\n",
       "    .dataframe tbody tr th:only-of-type {\n",
       "        vertical-align: middle;\n",
       "    }\n",
       "\n",
       "    .dataframe tbody tr th {\n",
       "        vertical-align: top;\n",
       "    }\n",
       "\n",
       "    .dataframe thead th {\n",
       "        text-align: right;\n",
       "    }\n",
       "</style>\n",
       "<table border=\"1\" class=\"dataframe\">\n",
       "  <thead>\n",
       "    <tr style=\"text-align: right;\">\n",
       "      <th></th>\n",
       "      <th>SL</th>\n",
       "      <th>SW</th>\n",
       "      <th>PL</th>\n",
       "      <th>PW</th>\n",
       "      <th>Classification</th>\n",
       "    </tr>\n",
       "  </thead>\n",
       "  <tbody>\n",
       "    <tr>\n",
       "      <th>60</th>\n",
       "      <td>5.0</td>\n",
       "      <td>2.0</td>\n",
       "      <td>3.5</td>\n",
       "      <td>1.0</td>\n",
       "      <td>Iris-versicolor</td>\n",
       "    </tr>\n",
       "  </tbody>\n",
       "</table>\n",
       "</div>"
      ],
      "text/plain": [
       "     SL   SW   PL   PW   Classification\n",
       "60  5.0  2.0  3.5  1.0  Iris-versicolor"
      ]
     },
     "execution_count": 39,
     "metadata": {},
     "output_type": "execute_result"
    }
   ],
   "source": [
    "df.loc[ind1]"
   ]
  },
  {
   "cell_type": "code",
   "execution_count": 40,
   "id": "6b83ade3",
   "metadata": {},
   "outputs": [],
   "source": [
    "df.drop([15,32,33,60],inplace=True)"
   ]
  },
  {
   "cell_type": "markdown",
   "id": "fb6579f7",
   "metadata": {},
   "source": [
    "# Correlation Matrix"
   ]
  },
  {
   "cell_type": "code",
   "execution_count": 41,
   "id": "e154fc89",
   "metadata": {},
   "outputs": [
    {
     "data": {
      "text/plain": [
       "[]"
      ]
     },
     "execution_count": 41,
     "metadata": {},
     "output_type": "execute_result"
    },
    {
     "data": {
      "image/png": "[encoded data removed]",
      "text/plain": [
       "<Figure size 600x400 with 2 Axes>"
      ]
     },
     "metadata": {},
     "output_type": "display_data"
    }
   ],
   "source": [
    "corr_matrix=df.corr()\n",
    "plt.subplots(figsize=(6,4))\n",
    "sns.heatmap(corr_matrix,annot=True,cmap=\"YlGnBu\")\n",
    "plt.plot()"
   ]
  },
  {
   "cell_type": "markdown",
   "id": "5aca11bd",
   "metadata": {},
   "source": [
    "# Min Max Scaling"
   ]
  },
  {
   "cell_type": "code",
   "execution_count": 43,
   "id": "ca16ce6b",
   "metadata": {},
   "outputs": [],
   "source": [
    "from sklearn.preprocessing import MinMaxScaler\n",
    "min_max=MinMaxScaler()  "
   ]
  },
  {
   "cell_type": "code",
   "execution_count": 44,
   "id": "3fdefdd1",
   "metadata": {},
   "outputs": [],
   "source": [
    "x=df.drop(['Classification'],axis=1)"
   ]
  },
  {
   "cell_type": "code",
   "execution_count": 45,
   "id": "8dca565e",
   "metadata": {},
   "outputs": [],
   "source": [
    "z=df['Classification']"
   ]
  },
  {
   "cell_type": "code",
   "execution_count": 46,
   "id": "c6803ad2",
   "metadata": {},
   "outputs": [],
   "source": [
    "z.set_axis(np.arange(146),inplace=True)"
   ]
  },
  {
   "cell_type": "code",
   "execution_count": 47,
   "id": "daad7745",
   "metadata": {},
   "outputs": [
    {
     "data": {
      "text/plain": [
       "(146,)"
      ]
     },
     "execution_count": 47,
     "metadata": {},
     "output_type": "execute_result"
    }
   ],
   "source": [
    "z.shape"
   ]
  },
  {
   "cell_type": "code",
   "execution_count": 48,
   "id": "34b09e68",
   "metadata": {},
   "outputs": [
    {
     "data": {
      "text/plain": [
       "0         Iris-setosa\n",
       "1         Iris-setosa\n",
       "2         Iris-setosa\n",
       "3         Iris-setosa\n",
       "4         Iris-setosa\n",
       "            ...      \n",
       "141    Iris-virginica\n",
       "142    Iris-virginica\n",
       "143    Iris-virginica\n",
       "144    Iris-virginica\n",
       "145    Iris-virginica\n",
       "Name: Classification, Length: 146, dtype: object"
      ]
     },
     "execution_count": 48,
     "metadata": {},
     "output_type": "execute_result"
    }
   ],
   "source": [
    "z"
   ]
  },
  {
   "cell_type": "code",
   "execution_count": 49,
   "id": "1123a39b",
   "metadata": {},
   "outputs": [],
   "source": [
    "x1=min_max.fit_transform(x)"
   ]
  },
  {
   "cell_type": "code",
   "execution_count": 50,
   "id": "b7d68faa",
   "metadata": {},
   "outputs": [
    {
     "data": {
      "text/plain": [
       "Index(['SL', 'SW', 'PL', 'PW', 'Classification'], dtype='object')"
      ]
     },
     "execution_count": 50,
     "metadata": {},
     "output_type": "execute_result"
    }
   ],
   "source": [
    "df.columns"
   ]
  },
  {
   "cell_type": "code",
   "execution_count": 51,
   "id": "3d0a640c",
   "metadata": {},
   "outputs": [
    {
     "data": {
      "text/plain": [
       "(146, 5)"
      ]
     },
     "execution_count": 51,
     "metadata": {},
     "output_type": "execute_result"
    }
   ],
   "source": [
    "df.shape"
   ]
  },
  {
   "cell_type": "code",
   "execution_count": 52,
   "id": "f25627ca",
   "metadata": {},
   "outputs": [],
   "source": [
    "x1=pd.DataFrame(x1,columns=['SL', 'SW', 'PL', 'PW'])"
   ]
  },
  {
   "cell_type": "code",
   "execution_count": 53,
   "id": "02ea28be",
   "metadata": {},
   "outputs": [
    {
     "data": {
      "text/plain": [
       "(146, 4)"
      ]
     },
     "execution_count": 53,
     "metadata": {},
     "output_type": "execute_result"
    }
   ],
   "source": [
    "x1.shape"
   ]
  },
  {
   "cell_type": "code",
   "execution_count": 54,
   "id": "62358c0d",
   "metadata": {},
   "outputs": [
    {
     "data": {
      "text/html": [
       "<div>\n",
       "<style scoped>\n",
       "    .dataframe tbody tr th:only-of-type {\n",
       "        vertical-align: middle;\n",
       "    }\n",
       "\n",
       "    .dataframe tbody tr th {\n",
       "        vertical-align: top;\n",
       "    }\n",
       "\n",
       "    .dataframe thead th {\n",
       "        text-align: right;\n",
       "    }\n",
       "</style>\n",
       "<table border=\"1\" class=\"dataframe\">\n",
       "  <thead>\n",
       "    <tr style=\"text-align: right;\">\n",
       "      <th></th>\n",
       "      <th>SL</th>\n",
       "      <th>SW</th>\n",
       "      <th>PL</th>\n",
       "      <th>PW</th>\n",
       "    </tr>\n",
       "  </thead>\n",
       "  <tbody>\n",
       "    <tr>\n",
       "      <th>count</th>\n",
       "      <td>146.000000</td>\n",
       "      <td>146.000000</td>\n",
       "      <td>146.000000</td>\n",
       "      <td>146.000000</td>\n",
       "    </tr>\n",
       "    <tr>\n",
       "      <th>mean</th>\n",
       "      <td>0.433600</td>\n",
       "      <td>0.464231</td>\n",
       "      <td>0.475737</td>\n",
       "      <td>0.466610</td>\n",
       "    </tr>\n",
       "    <tr>\n",
       "      <th>std</th>\n",
       "      <td>0.229644</td>\n",
       "      <td>0.214595</td>\n",
       "      <td>0.296844</td>\n",
       "      <td>0.316819</td>\n",
       "    </tr>\n",
       "    <tr>\n",
       "      <th>min</th>\n",
       "      <td>0.000000</td>\n",
       "      <td>0.000000</td>\n",
       "      <td>0.000000</td>\n",
       "      <td>0.000000</td>\n",
       "    </tr>\n",
       "    <tr>\n",
       "      <th>25%</th>\n",
       "      <td>0.222222</td>\n",
       "      <td>0.333333</td>\n",
       "      <td>0.101695</td>\n",
       "      <td>0.083333</td>\n",
       "    </tr>\n",
       "    <tr>\n",
       "      <th>50%</th>\n",
       "      <td>0.416667</td>\n",
       "      <td>0.444444</td>\n",
       "      <td>0.576271</td>\n",
       "      <td>0.500000</td>\n",
       "    </tr>\n",
       "    <tr>\n",
       "      <th>75%</th>\n",
       "      <td>0.583333</td>\n",
       "      <td>0.611111</td>\n",
       "      <td>0.694915</td>\n",
       "      <td>0.708333</td>\n",
       "    </tr>\n",
       "    <tr>\n",
       "      <th>max</th>\n",
       "      <td>1.000000</td>\n",
       "      <td>1.000000</td>\n",
       "      <td>1.000000</td>\n",
       "      <td>1.000000</td>\n",
       "    </tr>\n",
       "  </tbody>\n",
       "</table>\n",
       "</div>"
      ],
      "text/plain": [
       "               SL          SW          PL          PW\n",
       "count  146.000000  146.000000  146.000000  146.000000\n",
       "mean     0.433600    0.464231    0.475737    0.466610\n",
       "std      0.229644    0.214595    0.296844    0.316819\n",
       "min      0.000000    0.000000    0.000000    0.000000\n",
       "25%      0.222222    0.333333    0.101695    0.083333\n",
       "50%      0.416667    0.444444    0.576271    0.500000\n",
       "75%      0.583333    0.611111    0.694915    0.708333\n",
       "max      1.000000    1.000000    1.000000    1.000000"
      ]
     },
     "execution_count": 54,
     "metadata": {},
     "output_type": "execute_result"
    }
   ],
   "source": [
    "x1.describe()"
   ]
  },
  {
   "cell_type": "code",
   "execution_count": 55,
   "id": "2e1e78d2",
   "metadata": {},
   "outputs": [],
   "source": [
    "x2=pd.concat([x1,z],axis=1)"
   ]
  },
  {
   "cell_type": "code",
   "execution_count": 56,
   "id": "e066c759",
   "metadata": {},
   "outputs": [
    {
     "data": {
      "text/plain": [
       "(146, 5)"
      ]
     },
     "execution_count": 56,
     "metadata": {},
     "output_type": "execute_result"
    }
   ],
   "source": [
    "x2.shape"
   ]
  },
  {
   "cell_type": "code",
   "execution_count": 57,
   "id": "77482133",
   "metadata": {},
   "outputs": [
    {
     "data": {
      "text/html": [
       "<div>\n",
       "<style scoped>\n",
       "    .dataframe tbody tr th:only-of-type {\n",
       "        vertical-align: middle;\n",
       "    }\n",
       "\n",
       "    .dataframe tbody tr th {\n",
       "        vertical-align: top;\n",
       "    }\n",
       "\n",
       "    .dataframe thead th {\n",
       "        text-align: right;\n",
       "    }\n",
       "</style>\n",
       "<table border=\"1\" class=\"dataframe\">\n",
       "  <thead>\n",
       "    <tr style=\"text-align: right;\">\n",
       "      <th></th>\n",
       "      <th>SL</th>\n",
       "      <th>SW</th>\n",
       "      <th>PL</th>\n",
       "      <th>PW</th>\n",
       "      <th>Classification</th>\n",
       "    </tr>\n",
       "  </thead>\n",
       "  <tbody>\n",
       "    <tr>\n",
       "      <th>0</th>\n",
       "      <td>0.222222</td>\n",
       "      <td>0.722222</td>\n",
       "      <td>0.067797</td>\n",
       "      <td>0.041667</td>\n",
       "      <td>Iris-setosa</td>\n",
       "    </tr>\n",
       "    <tr>\n",
       "      <th>1</th>\n",
       "      <td>0.166667</td>\n",
       "      <td>0.444444</td>\n",
       "      <td>0.067797</td>\n",
       "      <td>0.041667</td>\n",
       "      <td>Iris-setosa</td>\n",
       "    </tr>\n",
       "    <tr>\n",
       "      <th>2</th>\n",
       "      <td>0.194444</td>\n",
       "      <td>0.555556</td>\n",
       "      <td>0.050847</td>\n",
       "      <td>0.041667</td>\n",
       "      <td>Iris-setosa</td>\n",
       "    </tr>\n",
       "    <tr>\n",
       "      <th>3</th>\n",
       "      <td>0.083333</td>\n",
       "      <td>0.500000</td>\n",
       "      <td>0.084746</td>\n",
       "      <td>0.041667</td>\n",
       "      <td>Iris-setosa</td>\n",
       "    </tr>\n",
       "    <tr>\n",
       "      <th>4</th>\n",
       "      <td>0.194444</td>\n",
       "      <td>0.777778</td>\n",
       "      <td>0.067797</td>\n",
       "      <td>0.041667</td>\n",
       "      <td>Iris-setosa</td>\n",
       "    </tr>\n",
       "    <tr>\n",
       "      <th>...</th>\n",
       "      <td>...</td>\n",
       "      <td>...</td>\n",
       "      <td>...</td>\n",
       "      <td>...</td>\n",
       "      <td>...</td>\n",
       "    </tr>\n",
       "    <tr>\n",
       "      <th>141</th>\n",
       "      <td>0.666667</td>\n",
       "      <td>0.444444</td>\n",
       "      <td>0.711864</td>\n",
       "      <td>0.916667</td>\n",
       "      <td>Iris-virginica</td>\n",
       "    </tr>\n",
       "    <tr>\n",
       "      <th>142</th>\n",
       "      <td>0.555556</td>\n",
       "      <td>0.166667</td>\n",
       "      <td>0.677966</td>\n",
       "      <td>0.750000</td>\n",
       "      <td>Iris-virginica</td>\n",
       "    </tr>\n",
       "    <tr>\n",
       "      <th>143</th>\n",
       "      <td>0.611111</td>\n",
       "      <td>0.444444</td>\n",
       "      <td>0.771186</td>\n",
       "      <td>0.791667</td>\n",
       "      <td>Iris-virginica</td>\n",
       "    </tr>\n",
       "    <tr>\n",
       "      <th>144</th>\n",
       "      <td>0.527778</td>\n",
       "      <td>0.666667</td>\n",
       "      <td>0.745763</td>\n",
       "      <td>0.916667</td>\n",
       "      <td>Iris-virginica</td>\n",
       "    </tr>\n",
       "    <tr>\n",
       "      <th>145</th>\n",
       "      <td>0.444444</td>\n",
       "      <td>0.444444</td>\n",
       "      <td>0.694915</td>\n",
       "      <td>0.708333</td>\n",
       "      <td>Iris-virginica</td>\n",
       "    </tr>\n",
       "  </tbody>\n",
       "</table>\n",
       "<p>146 rows × 5 columns</p>\n",
       "</div>"
      ],
      "text/plain": [
       "           SL        SW        PL        PW  Classification\n",
       "0    0.222222  0.722222  0.067797  0.041667     Iris-setosa\n",
       "1    0.166667  0.444444  0.067797  0.041667     Iris-setosa\n",
       "2    0.194444  0.555556  0.050847  0.041667     Iris-setosa\n",
       "3    0.083333  0.500000  0.084746  0.041667     Iris-setosa\n",
       "4    0.194444  0.777778  0.067797  0.041667     Iris-setosa\n",
       "..        ...       ...       ...       ...             ...\n",
       "141  0.666667  0.444444  0.711864  0.916667  Iris-virginica\n",
       "142  0.555556  0.166667  0.677966  0.750000  Iris-virginica\n",
       "143  0.611111  0.444444  0.771186  0.791667  Iris-virginica\n",
       "144  0.527778  0.666667  0.745763  0.916667  Iris-virginica\n",
       "145  0.444444  0.444444  0.694915  0.708333  Iris-virginica\n",
       "\n",
       "[146 rows x 5 columns]"
      ]
     },
     "execution_count": 57,
     "metadata": {},
     "output_type": "execute_result"
    }
   ],
   "source": [
    "x2"
   ]
  },
  {
   "cell_type": "markdown",
   "id": "0fff78f9",
   "metadata": {},
   "source": [
    "# Logistic Regression"
   ]
  },
  {
   "cell_type": "code",
   "execution_count": 59,
   "id": "b8134175",
   "metadata": {},
   "outputs": [],
   "source": [
    "x=x2.drop('Classification',axis=1)\n",
    "y=x2['Classification']"
   ]
  },
  {
   "cell_type": "code",
   "execution_count": 60,
   "id": "3d10e8a1",
   "metadata": {},
   "outputs": [],
   "source": [
    "from sklearn.model_selection import train_test_split\n",
    "x_train,x_test,y_train,y_test=train_test_split(x,y,test_size=0.25,random_state=42)"
   ]
  },
  {
   "cell_type": "code",
   "execution_count": 61,
   "id": "647dc19a",
   "metadata": {},
   "outputs": [],
   "source": [
    "from sklearn.linear_model import LogisticRegression\n",
    "lor=LogisticRegression()\n",
    "model=lor.fit(x_train,y_train)\n",
    "y_pred=model.predict(x_test)"
   ]
  },
  {
   "cell_type": "code",
   "execution_count": 62,
   "id": "c83719ee",
   "metadata": {},
   "outputs": [],
   "source": [
    "#confusion matrix\n",
    "from sklearn.metrics import confusion_matrix,accuracy_score"
   ]
  },
  {
   "cell_type": "code",
   "execution_count": 63,
   "id": "ce02fe8c",
   "metadata": {},
   "outputs": [
    {
     "name": "stdout",
     "output_type": "stream",
     "text": [
      "Confusion Matrix: \n",
      "  [[16  0  0]\n",
      " [ 0  7  1]\n",
      " [ 0  1 12]]\n"
     ]
    }
   ],
   "source": [
    "print('Confusion Matrix: \\n ',confusion_matrix(y_test,y_pred))"
   ]
  },
  {
   "cell_type": "code",
   "execution_count": 64,
   "id": "e0626283",
   "metadata": {},
   "outputs": [
    {
     "name": "stdout",
     "output_type": "stream",
     "text": [
      "The Accuracy of Logistic Regression Model is: 94.59 %\n"
     ]
    }
   ],
   "source": [
    "print('The Accuracy of Logistic Regression Model is:',np.round(accuracy_score(y_test,y_pred)*100,2),'%')"
   ]
  },
  {
   "cell_type": "code",
   "execution_count": 65,
   "id": "c857dba9",
   "metadata": {},
   "outputs": [
    {
     "name": "stdout",
     "output_type": "stream",
     "text": [
      "                 precision    recall  f1-score   support\n",
      "\n",
      "    Iris-setosa       1.00      1.00      1.00        16\n",
      "Iris-versicolor       0.88      0.88      0.88         8\n",
      " Iris-virginica       0.92      0.92      0.92        13\n",
      "\n",
      "       accuracy                           0.95        37\n",
      "      macro avg       0.93      0.93      0.93        37\n",
      "   weighted avg       0.95      0.95      0.95        37\n",
      "\n"
     ]
    }
   ],
   "source": [
    "#printing classification report\n",
    "from sklearn import metrics\n",
    "print(metrics.classification_report(y_test,y_pred))"
   ]
  },
  {
   "cell_type": "markdown",
   "id": "2e7b0ed4",
   "metadata": {},
   "source": [
    "# KNN"
   ]
  },
  {
   "cell_type": "code",
   "execution_count": 66,
   "id": "f17c658a",
   "metadata": {},
   "outputs": [],
   "source": [
    "from sklearn.neighbors import KNeighborsClassifier"
   ]
  },
  {
   "cell_type": "code",
   "execution_count": 67,
   "id": "0163056c",
   "metadata": {},
   "outputs": [],
   "source": [
    "metric_k=[]\n",
    "neighbors=np.arange(3,15)"
   ]
  },
  {
   "cell_type": "code",
   "execution_count": 68,
   "id": "ddda19b2",
   "metadata": {},
   "outputs": [
    {
     "name": "stderr",
     "output_type": "stream",
     "text": [
      "C:\\Users\\DELL\\anaconda3\\lib\\site-packages\\sklearn\\neighbors\\_classification.py:228: FutureWarning: Unlike other reduction functions (e.g. `skew`, `kurtosis`), the default behavior of `mode` typically preserves the axis it acts along. In SciPy 1.11.0, this behavior will change: the default value of `keepdims` will become False, the `axis` over which the statistic is taken will be eliminated, and the value None will no longer be accepted. Set `keepdims` to True or False to avoid this warning.\n",
      "  mode, _ = stats.mode(_y[neigh_ind, k], axis=1)\n",
      "C:\\Users\\DELL\\anaconda3\\lib\\site-packages\\sklearn\\neighbors\\_classification.py:228: FutureWarning: Unlike other reduction functions (e.g. `skew`, `kurtosis`), the default behavior of `mode` typically preserves the axis it acts along. In SciPy 1.11.0, this behavior will change: the default value of `keepdims` will become False, the `axis` over which the statistic is taken will be eliminated, and the value None will no longer be accepted. Set `keepdims` to True or False to avoid this warning.\n",
      "  mode, _ = stats.mode(_y[neigh_ind, k], axis=1)\n",
      "C:\\Users\\DELL\\anaconda3\\lib\\site-packages\\sklearn\\neighbors\\_classification.py:228: FutureWarning: Unlike other reduction functions (e.g. `skew`, `kurtosis`), the default behavior of `mode` typically preserves the axis it acts along. In SciPy 1.11.0, this behavior will change: the default value of `keepdims` will become False, the `axis` over which the statistic is taken will be eliminated, and the value None will no longer be accepted. Set `keepdims` to True or False to avoid this warning.\n",
      "  mode, _ = stats.mode(_y[neigh_ind, k], axis=1)\n",
      "C:\\Users\\DELL\\anaconda3\\lib\\site-packages\\sklearn\\neighbors\\_classification.py:228: FutureWarning: Unlike other reduction functions (e.g. `skew`, `kurtosis`), the default behavior of `mode` typically preserves the axis it acts along. In SciPy 1.11.0, this behavior will change: the default value of `keepdims` will become False, the `axis` over which the statistic is taken will be eliminated, and the value None will no longer be accepted. Set `keepdims` to True or False to avoid this warning.\n",
      "  mode, _ = stats.mode(_y[neigh_ind, k], axis=1)\n",
      "C:\\Users\\DELL\\anaconda3\\lib\\site-packages\\sklearn\\neighbors\\_classification.py:228: FutureWarning: Unlike other reduction functions (e.g. `skew`, `kurtosis`), the default behavior of `mode` typically preserves the axis it acts along. In SciPy 1.11.0, this behavior will change: the default value of `keepdims` will become False, the `axis` over which the statistic is taken will be eliminated, and the value None will no longer be accepted. Set `keepdims` to True or False to avoid this warning.\n",
      "  mode, _ = stats.mode(_y[neigh_ind, k], axis=1)\n",
      "C:\\Users\\DELL\\anaconda3\\lib\\site-packages\\sklearn\\neighbors\\_classification.py:228: FutureWarning: Unlike other reduction functions (e.g. `skew`, `kurtosis`), the default behavior of `mode` typically preserves the axis it acts along. In SciPy 1.11.0, this behavior will change: the default value of `keepdims` will become False, the `axis` over which the statistic is taken will be eliminated, and the value None will no longer be accepted. Set `keepdims` to True or False to avoid this warning.\n",
      "  mode, _ = stats.mode(_y[neigh_ind, k], axis=1)\n",
      "C:\\Users\\DELL\\anaconda3\\lib\\site-packages\\sklearn\\neighbors\\_classification.py:228: FutureWarning: Unlike other reduction functions (e.g. `skew`, `kurtosis`), the default behavior of `mode` typically preserves the axis it acts along. In SciPy 1.11.0, this behavior will change: the default value of `keepdims` will become False, the `axis` over which the statistic is taken will be eliminated, and the value None will no longer be accepted. Set `keepdims` to True or False to avoid this warning.\n",
      "  mode, _ = stats.mode(_y[neigh_ind, k], axis=1)\n",
      "C:\\Users\\DELL\\anaconda3\\lib\\site-packages\\sklearn\\neighbors\\_classification.py:228: FutureWarning: Unlike other reduction functions (e.g. `skew`, `kurtosis`), the default behavior of `mode` typically preserves the axis it acts along. In SciPy 1.11.0, this behavior will change: the default value of `keepdims` will become False, the `axis` over which the statistic is taken will be eliminated, and the value None will no longer be accepted. Set `keepdims` to True or False to avoid this warning.\n",
      "  mode, _ = stats.mode(_y[neigh_ind, k], axis=1)\n",
      "C:\\Users\\DELL\\anaconda3\\lib\\site-packages\\sklearn\\neighbors\\_classification.py:228: FutureWarning: Unlike other reduction functions (e.g. `skew`, `kurtosis`), the default behavior of `mode` typically preserves the axis it acts along. In SciPy 1.11.0, this behavior will change: the default value of `keepdims` will become False, the `axis` over which the statistic is taken will be eliminated, and the value None will no longer be accepted. Set `keepdims` to True or False to avoid this warning.\n",
      "  mode, _ = stats.mode(_y[neigh_ind, k], axis=1)\n",
      "C:\\Users\\DELL\\anaconda3\\lib\\site-packages\\sklearn\\neighbors\\_classification.py:228: FutureWarning: Unlike other reduction functions (e.g. `skew`, `kurtosis`), the default behavior of `mode` typically preserves the axis it acts along. In SciPy 1.11.0, this behavior will change: the default value of `keepdims` will become False, the `axis` over which the statistic is taken will be eliminated, and the value None will no longer be accepted. Set `keepdims` to True or False to avoid this warning.\n",
      "  mode, _ = stats.mode(_y[neigh_ind, k], axis=1)\n",
      "C:\\Users\\DELL\\anaconda3\\lib\\site-packages\\sklearn\\neighbors\\_classification.py:228: FutureWarning: Unlike other reduction functions (e.g. `skew`, `kurtosis`), the default behavior of `mode` typically preserves the axis it acts along. In SciPy 1.11.0, this behavior will change: the default value of `keepdims` will become False, the `axis` over which the statistic is taken will be eliminated, and the value None will no longer be accepted. Set `keepdims` to True or False to avoid this warning.\n",
      "  mode, _ = stats.mode(_y[neigh_ind, k], axis=1)\n",
      "C:\\Users\\DELL\\anaconda3\\lib\\site-packages\\sklearn\\neighbors\\_classification.py:228: FutureWarning: Unlike other reduction functions (e.g. `skew`, `kurtosis`), the default behavior of `mode` typically preserves the axis it acts along. In SciPy 1.11.0, this behavior will change: the default value of `keepdims` will become False, the `axis` over which the statistic is taken will be eliminated, and the value None will no longer be accepted. Set `keepdims` to True or False to avoid this warning.\n",
      "  mode, _ = stats.mode(_y[neigh_ind, k], axis=1)\n"
     ]
    }
   ],
   "source": [
    "for k in neighbors:\n",
    "  knn=KNeighborsClassifier(n_neighbors=k,metric='euclidean')\n",
    "  model2=knn.fit(x_train,y_train)\n",
    "  y_pred_knn=model2.predict(x_test)\n",
    "  acc=accuracy_score(y_test,y_pred_knn)\n",
    "  metric_k.append(acc)"
   ]
  },
  {
   "cell_type": "code",
   "execution_count": 69,
   "id": "c78d2ee9",
   "metadata": {},
   "outputs": [
    {
     "data": {
      "text/plain": [
       "[0.9459459459459459,\n",
       " 0.972972972972973,\n",
       " 1.0,\n",
       " 0.972972972972973,\n",
       " 0.972972972972973,\n",
       " 0.972972972972973,\n",
       " 0.972972972972973,\n",
       " 0.972972972972973,\n",
       " 0.972972972972973,\n",
       " 0.972972972972973,\n",
       " 0.972972972972973,\n",
       " 0.972972972972973]"
      ]
     },
     "execution_count": 69,
     "metadata": {},
     "output_type": "execute_result"
    }
   ],
   "source": [
    "metric_k"
   ]
  },
  {
   "cell_type": "code",
   "execution_count": 70,
   "id": "60854f09",
   "metadata": {},
   "outputs": [
    {
     "data": {
      "image/png": "[encoded data removed]",
      "text/plain": [
       "<Figure size 640x480 with 1 Axes>"
      ]
     },
     "metadata": {},
     "output_type": "display_data"
    }
   ],
   "source": [
    "#Ploting line graph of accuracy of model for each value of k \n",
    "plt.plot(neighbors,metric_k,'o-')\n",
    "plt.xlabel('k value')\n",
    "plt.ylabel('accuracy')\n",
    "plt.grid()"
   ]
  },
  {
   "cell_type": "code",
   "execution_count": 77,
   "id": "866e4ceb",
   "metadata": {},
   "outputs": [
    {
     "name": "stderr",
     "output_type": "stream",
     "text": [
      "C:\\Users\\DELL\\anaconda3\\lib\\site-packages\\sklearn\\neighbors\\_classification.py:228: FutureWarning: Unlike other reduction functions (e.g. `skew`, `kurtosis`), the default behavior of `mode` typically preserves the axis it acts along. In SciPy 1.11.0, this behavior will change: the default value of `keepdims` will become False, the `axis` over which the statistic is taken will be eliminated, and the value None will no longer be accepted. Set `keepdims` to True or False to avoid this warning.\n",
      "  mode, _ = stats.mode(_y[neigh_ind, k], axis=1)\n"
     ]
    }
   ],
   "source": [
    "#accuracy is max for  k =5values,so creating model using k=5\n",
    "knn=KNeighborsClassifier(n_neighbors=5,metric='euclidean')\n",
    "model2=knn.fit(x_train,y_train)\n",
    "y_pred_knn=model2.predict(x_test)"
   ]
  },
  {
   "cell_type": "code",
   "execution_count": 78,
   "id": "a1fc36f1",
   "metadata": {},
   "outputs": [
    {
     "name": "stdout",
     "output_type": "stream",
     "text": [
      "Confusion Matrix: \n",
      "  [[16  0  0]\n",
      " [ 0  8  0]\n",
      " [ 0  0 13]]\n"
     ]
    }
   ],
   "source": [
    "print('Confusion Matrix: \\n ',confusion_matrix(y_test,y_pred_knn))"
   ]
  },
  {
   "cell_type": "code",
   "execution_count": 79,
   "id": "f9a4726d",
   "metadata": {},
   "outputs": [
    {
     "name": "stdout",
     "output_type": "stream",
     "text": [
      "The Accuracy of K-NN Model is: 100.0 %\n"
     ]
    }
   ],
   "source": [
    "print('The Accuracy of K-NN Model is:',np.round(accuracy_score(y_test,y_pred_knn)*100,2),'%')"
   ]
  },
  {
   "cell_type": "markdown",
   "id": "826b46f9",
   "metadata": {},
   "source": [
    "# SVM"
   ]
  },
  {
   "cell_type": "code",
   "execution_count": 81,
   "id": "c6f36c28",
   "metadata": {},
   "outputs": [],
   "source": [
    "from sklearn.svm import SVC#support vector classifier"
   ]
  },
  {
   "cell_type": "code",
   "execution_count": 82,
   "id": "9b16046e",
   "metadata": {},
   "outputs": [],
   "source": [
    "#RBF\n",
    "svm_clf=SVC(kernel='rbf')\n",
    "svm_model=svm_clf.fit(x_train,y_train)\n",
    "y_pred_svm=svm_model.predict(x_test)"
   ]
  },
  {
   "cell_type": "code",
   "execution_count": 83,
   "id": "d4f06f6a",
   "metadata": {},
   "outputs": [
    {
     "name": "stdout",
     "output_type": "stream",
     "text": [
      "Confusion Matrix: \n",
      "  [[16  0  0]\n",
      " [ 0  7  1]\n",
      " [ 0  1 12]]\n"
     ]
    }
   ],
   "source": [
    "print('Confusion Matrix: \\n ',confusion_matrix(y_test,y_pred_svm))"
   ]
  },
  {
   "cell_type": "code",
   "execution_count": 84,
   "id": "9c09273d",
   "metadata": {},
   "outputs": [
    {
     "name": "stdout",
     "output_type": "stream",
     "text": [
      "The Accuracy of SVM Model(kernel=rbf) is: 94.59 %\n"
     ]
    }
   ],
   "source": [
    "print('The Accuracy of SVM Model(kernel=rbf) is:',np.round(accuracy_score(y_test,y_pred_svm)*100,2),'%')"
   ]
  },
  {
   "cell_type": "code",
   "execution_count": 85,
   "id": "70e905bb",
   "metadata": {},
   "outputs": [],
   "source": [
    "#LINEAR\n",
    "svm_clf_linear=SVC(kernel='linear')\n",
    "svm_model_linear=svm_clf.fit(x_train,y_train)\n",
    "y_pred_svm_linear=svm_model_linear.predict(x_test)"
   ]
  },
  {
   "cell_type": "code",
   "execution_count": 86,
   "id": "e00882b0",
   "metadata": {},
   "outputs": [
    {
     "name": "stdout",
     "output_type": "stream",
     "text": [
      "Confusion Matrix: \n",
      "  [[16  0  0]\n",
      " [ 0  7  1]\n",
      " [ 0  1 12]]\n"
     ]
    }
   ],
   "source": [
    "print('Confusion Matrix: \\n ',confusion_matrix(y_test,y_pred_svm_linear))"
   ]
  },
  {
   "cell_type": "code",
   "execution_count": 87,
   "id": "2b6323bd",
   "metadata": {},
   "outputs": [
    {
     "name": "stdout",
     "output_type": "stream",
     "text": [
      "The Accuracy of SVM Model(kernel=linear) is: 94.59 %\n"
     ]
    }
   ],
   "source": [
    "print('The Accuracy of SVM Model(kernel=linear) is:',np.round(accuracy_score(y_test,y_pred_svm_linear)*100,2),'%')"
   ]
  },
  {
   "cell_type": "markdown",
   "id": "a03c3802",
   "metadata": {},
   "source": [
    "# Decision Tree"
   ]
  },
  {
   "cell_type": "code",
   "execution_count": 88,
   "id": "112d663f",
   "metadata": {},
   "outputs": [],
   "source": [
    "from sklearn.tree import DecisionTreeClassifier\n",
    "dt_clf= DecisionTreeClassifier(random_state=42)\n",
    "dt_model=dt_clf.fit(x_train,y_train)\n",
    "y_pred_deci=dt_model.predict(x_test)"
   ]
  },
  {
   "cell_type": "code",
   "execution_count": 89,
   "id": "3ad524bb",
   "metadata": {},
   "outputs": [
    {
     "name": "stdout",
     "output_type": "stream",
     "text": [
      "Confusion Matrix: \n",
      "  [[16  0  0]\n",
      " [ 0  7  1]\n",
      " [ 0  1 12]]\n"
     ]
    }
   ],
   "source": [
    "print('Confusion Matrix: \\n ',confusion_matrix(y_test,y_pred_deci))"
   ]
  },
  {
   "cell_type": "code",
   "execution_count": 91,
   "id": "23aa844c",
   "metadata": {},
   "outputs": [
    {
     "name": "stdout",
     "output_type": "stream",
     "text": [
      "The Accuracy of Decision Tree Model is: 94.59 %\n"
     ]
    }
   ],
   "source": [
    "print('The Accuracy of Decision Tree Model is:',np.round(accuracy_score(y_test,y_pred_deci)*100,2),'%')"
   ]
  },
  {
   "cell_type": "markdown",
   "id": "e3e5a985",
   "metadata": {},
   "source": [
    "# Random Forest"
   ]
  },
  {
   "cell_type": "code",
   "execution_count": 93,
   "id": "0548ff01",
   "metadata": {},
   "outputs": [],
   "source": [
    "from sklearn.ensemble import RandomForestClassifier\n",
    "rf_clf= RandomForestClassifier(random_state=42)\n",
    "rf_model=rf_clf.fit(x_train,y_train)\n",
    "y_pred_rand=rf_model.predict(x_test)"
   ]
  },
  {
   "cell_type": "code",
   "execution_count": 94,
   "id": "00653af4",
   "metadata": {},
   "outputs": [
    {
     "name": "stdout",
     "output_type": "stream",
     "text": [
      "Confusion Matrix: \n",
      "  [[16  0  0]\n",
      " [ 0  7  1]\n",
      " [ 0  1 12]]\n"
     ]
    }
   ],
   "source": [
    "print('Confusion Matrix: \\n ',confusion_matrix(y_test,y_pred_rand))"
   ]
  },
  {
   "cell_type": "code",
   "execution_count": 96,
   "id": "b4598a06",
   "metadata": {},
   "outputs": [
    {
     "name": "stdout",
     "output_type": "stream",
     "text": [
      "The Accuracy of Random Forest Model is: 94.59 %\n"
     ]
    }
   ],
   "source": [
    "print('The Accuracy of Random Forest Model is:',np.round(accuracy_score(y_test,y_pred_rand)*100,2),'%')"
   ]
  },
  {
   "cell_type": "code",
   "execution_count": 97,
   "id": "7918cd69",
   "metadata": {},
   "outputs": [
    {
     "name": "stdout",
     "output_type": "stream",
     "text": [
      "The Accuracy of Logistic Regression Model is: 94.59 %\n",
      "The Accuracy of K-NN Model is: 100.0 %\n",
      "The Accuracy of SVM Model(kernel=rbf) is: 94.59 %\n",
      "The Accuracy of SVM Model(kernel=linear) is: 94.59 %\n",
      "The Accuracy of Decision Tree Model is: 94.59 %\n",
      "The Accuracy of Random Forest Model is: 94.59 %\n"
     ]
    }
   ],
   "source": [
    "#Accuracy comparison\n",
    "print('The Accuracy of Logistic Regression Model is:',np.round(accuracy_score(y_test,y_pred)*100,2),'%')\n",
    "print('The Accuracy of K-NN Model is:',np.round(accuracy_score(y_test,y_pred_knn)*100,2),'%')\n",
    "print('The Accuracy of SVM Model(kernel=rbf) is:',np.round(accuracy_score(y_test,y_pred_svm)*100,2),'%')\n",
    "print('The Accuracy of SVM Model(kernel=linear) is:',np.round(accuracy_score(y_test,y_pred_svm_linear)*100,2),'%')\n",
    "print('The Accuracy of Decision Tree Model is:',np.round(accuracy_score(y_test,y_pred_deci)*100,2),'%')\n",
    "print('The Accuracy of Random Forest Model is:',np.round(accuracy_score(y_test,y_pred_rand)*100,2),'%')"
   ]
  },
  {
   "attachments": {},
   "cell_type": "markdown",
   "id": "57d1cbb1",
   "metadata": {},
   "source": [
    "Accuracy is highest for KNN.It gives the best model."
   ]
  }
 ],
 "metadata": {
  "kernelspec": {
   "display_name": "Python 3 (ipykernel)",
   "language": "python",
   "name": "python3"
  },
  "language_info": {
   "codemirror_mode": {
    "name": "ipython",
    "version": 3
   },
   "file_extension": ".py",
   "mimetype": "text/x-python",
   "name": "python",
   "nbconvert_exporter": "python",
   "pygments_lexer": "ipython3",
   "version": "3.9.13"
  }
 },
 "nbformat": 4,
 "nbformat_minor": 5
}
